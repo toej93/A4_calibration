{
 "cells": [
  {
   "cell_type": "code",
   "execution_count": 1,
   "metadata": {},
   "outputs": [
    {
     "name": "stdout",
     "output_type": "stream",
     "text": [
      "Welcome to JupyROOT 6.18/04\n",
      "/users/PCON0003/cond0068\n"
     ]
    }
   ],
   "source": [
    "import sys\n",
    "sys.path.append(\"/users/PCON0003/cond0068/ARA/root6_18_build/lib\") # go to parent dir\n",
    "# sys.path.append(\"/users/PAS0654/osu8354/ARA/AraRootBuild/lib/\") # go to parent dir\n",
    "\n",
    "from ROOT import TCanvas, TGraph\n",
    "from ROOT import gROOT\n",
    "import ROOT\n",
    "import os\n",
    "import matplotlib.pyplot as plt\n",
    "# from TimingCalibration import HistPlotter2D\n",
    "import numpy as np\n",
    "# ROOT.gSystem.Load(\"/users/PCON0003/cond0068/ARA/root6_18_build/lib/libGraf3d.so\")\n",
    "# ROOT.gSystem.Load(\"/users/PCON0003/cond0068/ARA/root6_18_build/lib/libTreePlayer.so\")\n",
    "# ROOT.gSystem.Load(\"/users/PCON0003/cond0068/ARA/root6_18_build/lib/libPostscript.so\")\n",
    "# ROOT.gSystem.Load(\"/users/PCON0003/cond0068/ARA/root6_18_build/lib/libPhysics.so\")\n",
    "# ROOT.gSystem.Load(\"/users/PCON0003/cond0068/ARA/root6_18_build/lib/libROOTDataFrame.so\")\n",
    "# ROOT.gSystem.Load(\"/users/PCON0003/cond0068/ARA/root6_18_build/lib/libMathMore.so\")\n",
    "# ROOT.gSystem.Load(\"/users/PCON0003/cond0068/ARA/root6_18_build/lib/libMinuit.so\")\n",
    "# ROOT.gSystem.Load(\"/users/PCON0003/cond0068/ARA/root6_18_build/lib/libSpectrum.so\")\n",
    "# ROOT.gSystem.Load(\"/users/PCON0003/cond0068/ARA/root6_18_build/lib/libRint.so\")\n",
    "\n",
    "# ROOT.gSystem.Load( '%s/lib/libAraEvent.so' % ( os.getenv('HOME') ) )\n",
    "\n",
    "# print('%s/lib/libAraEvent.so'%(os.getenv('HOME')))\n",
    "print(os.environ['HOME'])\n"
   ]
  },
  {
   "cell_type": "markdown",
   "metadata": {},
   "source": [
    "## Define variables and functs"
   ]
  },
  {
   "cell_type": "code",
   "execution_count": null,
   "metadata": {},
   "outputs": [],
   "source": [
    "ch=0\n",
    "run=2827"
   ]
  },
  {
   "cell_type": "code",
   "execution_count": null,
   "metadata": {},
   "outputs": [],
   "source": [
    "def HistPlotter2D_jitter(chan,runNum):\n",
    "    sample = np.load('./ARA4_cal_files/samples_%i_%ifirst.npy'%(runNum,chan))\n",
    "    sample_f = np.load('./ARA4_cal_files/samples_%i_%ifinal.npy'%(runNum,chan))\n",
    "    jitter = np.load('./ARA4_cal_files/jitter_%i_%ifirst.npy'%(runNum,chan))\n",
    "    jitter_f = np.load('./ARA4_cal_files/jitter_%i_%ifinal.npy'%(runNum,chan))\n",
    "\n",
    "    sample_even=[]\n",
    "    jitter_even = []\n",
    "    sample_odd=[]\n",
    "    jitter_odd = []\n",
    "    sample_even_f =[]\n",
    "    jitter_even_f = []\n",
    "    sample_odd_f =[]\n",
    "    jitter_odd_f = []\n",
    "\n",
    "\n",
    "    for j in range(0,len(sample)):\n",
    "        if(sample[j]%2==0):#if even\n",
    "            sample_even.append(sample[j])\n",
    "            jitter_even.append(jitter[j])\n",
    "        else:\n",
    "            sample_odd.append(sample[j])\n",
    "            jitter_odd.append(jitter[j])\n",
    "            \n",
    "        if(sample_f[j]%2==0):#if even\n",
    "            sample_even_f.append(sample_f[j])\n",
    "            jitter_even_f.append(jitter_f[j])\n",
    "        else:\n",
    "            sample_odd_f.append(sample_f[j])\n",
    "            jitter_odd_f.append(jitter_f[j])\n",
    "\n",
    "\n",
    "    fig, ax = plt.subplots(nrows=2, ncols=2, figsize=(12, 10))\n",
    "\n",
    "    even_hist_i = ax[0,0].hist2d(sample_even,jitter_even,bins=(128,128),cmap=plt.cm.jet,range=np.array([(0.0,128.0),(-1.0,1.0)]),vmin=0, vmax=70)\n",
    "    ax[0,0].set_title(\"Even samples (no calib), run %i, ch %i\"%(runNum,chan),fontsize=14)\n",
    "    ax[0,0].set_ylabel(\"Offset [ns]\",fontsize=12)\n",
    "    ax[0,0].set_xlabel(\"Samples\",fontsize=12)\n",
    "    # ax[0].set_ylim(-180,180)\n",
    "    fig.colorbar(even_hist_i[3],ax=ax[0,0])\n",
    "    \n",
    "    even_hist_f = ax[0,1].hist2d(sample_even_f,jitter_even_f,bins=(128,128),cmap=plt.cm.jet,range=np.array([(0.0,128.0),(-1.0,1.0)]),vmin=0, vmax=70)\n",
    "    ax[0,1].set_title(\"Even samples (calibrated), run %i, ch %i\"%(runNum,chan),fontsize=14)\n",
    "    ax[0,1].set_ylabel(\"Offset [ns]\",fontsize=12)\n",
    "    ax[0,1].set_xlabel(\"Samples\",fontsize=12)\n",
    "    fig.colorbar(even_hist_f[3],ax=ax[0,1])\n",
    "\n",
    "    odd_hist_i = ax[1,0].hist2d(sample_odd,jitter_odd,bins=(128,128),cmap=plt.cm.jet,range=np.array([(0.0,128.0),(-1.0,1.0)]),vmin=0, vmax=70)\n",
    "    ax[1,0].set_title(\"Odd samples (no calib), run %i, ch %i\"%(runNum,chan),fontsize=14)\n",
    "    ax[1,0].set_ylabel(\"Offset [ns]\",fontsize=12)\n",
    "    ax[1,0].set_xlabel(\"Samples\",fontsize=12)\n",
    "    fig.colorbar(odd_hist_i[3],ax=ax[1,0])\n",
    "    \n",
    "    even_hist_f = ax[1,1].hist2d(sample_odd_f,jitter_odd_f,bins=(128,128),cmap=plt.cm.jet,range=np.array([(0.0,128.0),(-1.0,1.0)]),vmin=0, vmax=70)\n",
    "    ax[1,1].set_title(\"Odd samples (calibrated), run %i, ch %i\"%(runNum,chan),fontsize=14)\n",
    "    ax[1,1].set_ylabel(\"Offset [ns]\",fontsize=12)\n",
    "    ax[1,1].set_xlabel(\"Samples\",fontsize=12)\n",
    "    fig.colorbar(even_hist_f[3],ax=ax[1,1])\n",
    "\n",
    "    fig.tight_layout()\n",
    "    fig.savefig(\"timeOffset_run%i_ch%i.png\"%(runNum,chan), dpi=200)"
   ]
  },
  {
   "cell_type": "code",
   "execution_count": null,
   "metadata": {},
   "outputs": [],
   "source": [
    "HistPlotter2D_jitter(ch,run)"
   ]
  },
  {
   "cell_type": "code",
   "execution_count": null,
   "metadata": {},
   "outputs": [],
   "source": [
    "\n",
    "# plt.figure(facecolor='w')\n",
    "# plt.hist2d(sample_even,jitter_even,bins=(128,128),cmap=plt.cm.jet,range=np.array([(0.0,128.0),(-1.0,1.0)]))\n",
    "# plt.title('Even Samples (no calib)')\n",
    "\n",
    "# plt.figure(facecolor='w')\n",
    "# plt.hist2d(sample_odd,jitter_odd,bins=(128,128),cmap=plt.cm.jet,range=np.array([(0.0,128.0),(-1.0,1.0)]))\n",
    "# plt.title('Odd Samples (no calib)')"
   ]
  },
  {
   "cell_type": "code",
   "execution_count": null,
   "metadata": {},
   "outputs": [],
   "source": []
  }
 ],
 "metadata": {
  "kernelspec": {
   "display_name": "Python 3.6 (Conda 5.2) [python/3.6-conda5.2]",
   "language": "python",
   "name": "sys_python36conda"
  },
  "language_info": {
   "codemirror_mode": {
    "name": "ipython",
    "version": 3
   },
   "file_extension": ".py",
   "mimetype": "text/x-python",
   "name": "python",
   "nbconvert_exporter": "python",
   "pygments_lexer": "ipython3",
   "version": "3.6.6"
  }
 },
 "nbformat": 4,
 "nbformat_minor": 2
}
