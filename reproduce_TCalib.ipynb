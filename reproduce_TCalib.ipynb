{
 "cells": [
  {
   "cell_type": "code",
   "execution_count": 1,
   "metadata": {},
   "outputs": [
    {
     "name": "stdout",
     "output_type": "stream",
     "text": [
      "Welcome to JupyROOT 6.18/04\n",
      "/users/PCON0003/cond0068/lib/libAraEvent.so\n",
      "/users/PCON0003/cond0068\n"
     ]
    }
   ],
   "source": [
    "import sys\n",
    "sys.path.append(\"/users/PCON0003/cond0068/ARA/root6_18_build/lib\") # go to parent dir\n",
    "# sys.path.append(\"/users/PAS0654/osu8354/ARA/AraRootBuild/lib/\") # go to parent dir\n",
    "\n",
    "from ROOT import TCanvas, TGraph\n",
    "from ROOT import gROOT\n",
    "import ROOT\n",
    "import os\n",
    "import matplotlib.pyplot as plt\n",
    "# from TimingCalibration import HistPlotter2D\n",
    "import numpy as np\n",
    "# ROOT.gSystem.Load(\"/users/PCON0003/cond0068/ARA/root6_18_build/lib/libGraf3d.so\")\n",
    "ROOT.gSystem.Load(\"/users/PCON0003/cond0068/ARA/root6_18_build/lib/libTreePlayer.so\")\n",
    "ROOT.gSystem.Load(\"/users/PCON0003/cond0068/ARA/root6_18_build/lib/libPostscript.so\")\n",
    "ROOT.gSystem.Load(\"/users/PCON0003/cond0068/ARA/root6_18_build/lib/libPhysics.so\")\n",
    "ROOT.gSystem.Load(\"/users/PCON0003/cond0068/ARA/root6_18_build/lib/libROOTDataFrame.so\")\n",
    "ROOT.gSystem.Load(\"/users/PCON0003/cond0068/ARA/root6_18_build/lib/libMathMore.so\")\n",
    "ROOT.gSystem.Load(\"/users/PCON0003/cond0068/ARA/root6_18_build/lib/libMinuit.so\")\n",
    "ROOT.gSystem.Load(\"/users/PCON0003/cond0068/ARA/root6_18_build/lib/libSpectrum.so\")\n",
    "ROOT.gSystem.Load(\"/users/PCON0003/cond0068/ARA/root6_18_build/lib/libRint.so\")\n",
    "\n",
    "ROOT.gSystem.Load( '%s/lib/libAraEvent.so' % ( os.getenv('HOME') ) )\n",
    "\n",
    "print('%s/lib/libAraEvent.so'%(os.getenv('HOME')))\n",
    "print(os.environ['HOME'])\n",
    "from AutomaticLoadData import LoadDataFromWeb\n",
    "from TimingCalibration_final import AddOffsets\n",
    "from TimingCalibration_final import CorrectTimingSample\n",
    "from TimingCalibration_final import SineFit, SineFunc, invertedFit, reject_outliers"
   ]
  },
  {
   "cell_type": "markdown",
   "metadata": {},
   "source": [
    "## Load all variables and define stuff"
   ]
  },
  {
   "cell_type": "code",
   "execution_count": 2,
   "metadata": {},
   "outputs": [
    {
     "name": "stdout",
     "output_type": "stream",
     "text": [
      "number of events is 1994\n",
      "clearing out old t_cal\n",
      "[ 0.      0.3125  0.625   0.9375  1.25    1.5625  1.875   2.1875  2.5\n",
      "  2.8125  3.125   3.4375  3.75    4.0625  4.375   4.6875  5.      5.3125\n",
      "  5.625   5.9375  6.25    6.5625  6.875   7.1875  7.5     7.8125  8.125\n",
      "  8.4375  8.75    9.0625  9.375   9.6875 10.     10.3125 10.625  10.9375\n",
      " 11.25   11.5625 11.875  12.1875 12.5    12.8125 13.125  13.4375 13.75\n",
      " 14.0625 14.375  14.6875 15.     15.3125 15.625  15.9375 16.25   16.5625\n",
      " 16.875  17.1875 17.5    17.8125 18.125  18.4375 18.75   19.0625 19.375\n",
      " 19.6875 20.     20.3125 20.625  20.9375 21.25   21.5625 21.875  22.1875\n",
      " 22.5    22.8125 23.125  23.4375 23.75   24.0625 24.375  24.6875 25.\n",
      " 25.3125 25.625  25.9375 26.25   26.5625 26.875  27.1875 27.5    27.8125\n",
      " 28.125  28.4375 28.75   29.0625 29.375  29.6875 30.     30.3125 30.625\n",
      " 30.9375 31.25   31.5625 31.875  32.1875 32.5    32.8125 33.125  33.4375\n",
      " 33.75   34.0625 34.375  34.6875 35.     35.3125 35.625  35.9375 36.25\n",
      " 36.5625 36.875  37.1875 37.5    37.8125 38.125  38.4375 38.75   39.0625\n",
      " 39.375  39.6875]\n"
     ]
    },
    {
     "name": "stderr",
     "output_type": "stream",
     "text": [
      "/apps/python/3.6-conda5.2/lib/python3.6/site-packages/ipykernel_launcher.py:15: DeprecationWarning: object of type <class 'float'> cannot be safely interpreted as an integer.\n",
      "  from ipykernel import kernelapp as app\n",
      "/apps/python/3.6-conda5.2/lib/python3.6/site-packages/ipykernel_launcher.py:16: DeprecationWarning: object of type <class 'float'> cannot be safely interpreted as an integer.\n",
      "  app.launch_new_instance()\n"
     ]
    }
   ],
   "source": [
    "wf_len = 896\n",
    "station = 4\n",
    "channel = 1\n",
    "rootfile = \"2840\"\n",
    "freq = 0.218\n",
    "\n",
    "#load in data\n",
    "all_times, volt,blocks = LoadDataFromWeb(station,rootfile,\"0118\",\"2018\",int(channel),wf_len,0,1,0,0,1)\n",
    "time = all_times[0]-all_times[0][0]\n",
    "print('number of events is', np.shape(volt)[0])\n",
    "\n",
    "num_blocks=len(volt[:,0])#num blocks entries = num events\n",
    "\n",
    "best_params = np.zeros([num_blocks,4]) #creates a num_blocksx4 array\n",
    "odds = np.linspace(1,wf_len-1,wf_len/2,dtype=int) #a list containing only odd numbers\n",
    "evens = np.linspace(0,wf_len-2,wf_len/2,dtype=int)\n",
    "\n",
    "odd_params=np.zeros([num_blocks,3])\n",
    "even_params=np.zeros([num_blocks,3])\n",
    "odd_params2 = np.zeros([num_blocks,3])\n",
    "\n",
    "odd_half = np.linspace(1,63,32,dtype=int)\n",
    "even_half= np.linspace(0,62,32,dtype=int)\n",
    "\n",
    "odd_half2 = np.linspace(65,127,32,dtype=int)\n",
    "\n",
    "jitter_avg = np.zeros(128)\n",
    "t_cal = np.zeros(128)\n",
    "\n",
    "#load all 128 samples into arrays\n",
    "best_blocks = []\n",
    "best_freqs = []\n",
    "jitter_total = []\n",
    "odd_diffs = []\n",
    "line_diffs = []\n",
    "\n",
    "spacing = 0.625#This is the spacing, in ns, between odd/even samples\n",
    "\n",
    "if(t_cal[5]==0.0):\n",
    "    print('clearing out old t_cal')\n",
    "    t_cal=time[:128]\n",
    "    print(t_cal)\n",
    "\n",
    "t_cal_full = time\n",
    "# print('t_cal before is', t_cal_full)\n",
    "\n",
    "odd_mean = 0.0\n",
    "even_mean = 0.0"
   ]
  },
  {
   "cell_type": "markdown",
   "metadata": {},
   "source": [
    "## Add offsets"
   ]
  },
  {
   "cell_type": "code",
   "execution_count": null,
   "metadata": {},
   "outputs": [],
   "source": [
    "t_cal_full,odd_mean,even_mean=AddOffsets(t_cal_full,volt,freq,odds,odd_mean,even_mean, channel)"
   ]
  },
  {
   "cell_type": "markdown",
   "metadata": {},
   "source": [
    "## Fit odd blocks and get fit parameters"
   ]
  },
  {
   "cell_type": "code",
   "execution_count": 3,
   "metadata": {},
   "outputs": [],
   "source": [
    "for i in range(0,num_blocks):\n",
    "    odd_params[i,:]=SineFit(t_cal_full[odds],volt[i,odds],freq)"
   ]
  },
  {
   "cell_type": "code",
   "execution_count": 4,
   "metadata": {
    "scrolled": true
   },
   "outputs": [
    {
     "name": "stdout",
     "output_type": "stream",
     "text": [
      "mean frequency is 0.21789975878446122\n"
     ]
    }
   ],
   "source": [
    "freq_no_outliers = reject_outliers(np.asarray(odd_params[:,0]))\n",
    "mean_freq = np.mean(freq_no_outliers)\n",
    "print('mean frequency is', mean_freq)\n",
    "#histogram([odd_params[:,1],even_params[:,1]],'')\n",
    "\n",
    "#Scale timing to reflect true frequency\n",
    "t_cal_full=t_cal_full*mean_freq/freq"
   ]
  },
  {
   "cell_type": "markdown",
   "metadata": {},
   "source": [
    "### How does the freq distribution looks like?"
   ]
  },
  {
   "cell_type": "code",
   "execution_count": 5,
   "metadata": {
    "scrolled": true
   },
   "outputs": [
    {
     "data": {
      "text/plain": [
       "Text(0.5,0,'Freq [GHz]')"
      ]
     },
     "execution_count": 5,
     "metadata": {},
     "output_type": "execute_result"
    },
    {
     "data": {
      "image/png": "[encoded data removed]",
      "text/plain": [
       "<Figure size 432x288 with 1 Axes>"
      ]
     },
     "metadata": {},
     "output_type": "display_data"
    }
   ],
   "source": [
    "plt.hist(freq_no_outliers,bins=100);\n",
    "plt.xlabel(\"Freq [GHz]\")"
   ]
  },
  {
   "cell_type": "markdown",
   "metadata": {},
   "source": [
    "### Re-fit using new timing"
   ]
  },
  {
   "cell_type": "code",
   "execution_count": 6,
   "metadata": {},
   "outputs": [
    {
     "data": {
      "text/plain": [
       "(896,)"
      ]
     },
     "execution_count": 6,
     "metadata": {},
     "output_type": "execute_result"
    }
   ],
   "source": [
    "np.shape(t_cal_full)"
   ]
  },
  {
   "cell_type": "code",
   "execution_count": 7,
   "metadata": {},
   "outputs": [
    {
     "name": "stdout",
     "output_type": "stream",
     "text": [
      "loop number  0\n",
      "mean frequency is 0.21800000002469486\n"
     ]
    },
    {
     "data": {
      "image/png": "[encoded data removed]",
      "text/plain": [
       "<Figure size 432x288 with 1 Axes>"
      ]
     },
     "metadata": {},
     "output_type": "display_data"
    },
    {
     "name": "stdout",
     "output_type": "stream",
     "text": [
      "loop number  1\n",
      "mean frequency is 0.2179896731733963\n"
     ]
    },
    {
     "data": {
      "image/png": "[encoded data removed]",
      "text/plain": [
       "<Figure size 432x288 with 1 Axes>"
      ]
     },
     "metadata": {},
     "output_type": "display_data"
    }
   ],
   "source": [
    "for l in range(0,2): #Perform the fit 5 times, so it converges to the solution\n",
    "        print('loop number ', l)\n",
    "        \n",
    "        for i in range(0,num_blocks):\n",
    "            odd_params[i,:]=SineFit(t_cal_full[odds],volt[i,odds],freq)\n",
    "\n",
    "        #histogram([odd_params[:,0],odd_params[:,0]],'')\n",
    "        freq_no_outliers = reject_outliers(np.asarray(odd_params[:,0]))\n",
    "        mean_freq = np.mean(freq_no_outliers)\n",
    "        print('mean frequency is', mean_freq)\n",
    "        plt.hist(freq_no_outliers,bins=100);\n",
    "        plt.xlabel(\"Freq [GHz]\")\n",
    "        plt.title(\"Loop number %i\"%l)\n",
    "        plt.show()\n",
    "        #histogram([odd_params[:,1],even_params[:,1]],'')\n",
    "\n",
    "        #Scale timing to reflect true frequency\n",
    "        t_cal_full=t_cal_full*mean_freq/freq\n",
    "\n",
    "        #Re-fit using new time\n",
    "        for i in range(0,num_blocks):\n",
    "            odd_params[i,:]=SineFit(t_cal_full[odds],volt[i,odds],freq)\n",
    "\n",
    "\n",
    "        t_cal = t_cal_full[:128]\n",
    "\n",
    "        jitter_array = []\n",
    "        sample_array = []\n",
    "        slope_array = []\n",
    "        jitter_slope = []\n",
    "        new_spacing = np.zeros(128) #spacing between 0 and 1, 1 and 2, etc.\n",
    "        #Go through each sample and correct based on fit\n",
    "        for k in range(0,896):\n",
    "            counter = 0\n",
    "            for i in range(0,num_blocks):\n",
    "                if(np.abs(volt[i,k])<30.0 and (freq-odd_params[i,0])<0.002):# and np.abs(odd_params[i,2]>200)):\n",
    "\n",
    "\n",
    "                    try:\n",
    "                        invert_fit = invertedFit(odd_params[i,:],t_cal_full[k],volt[i,k])\n",
    "                        jitter_array.append(invert_fit)\n",
    "                        sample_array.append(k%128)\n",
    "                        counter = counter+1\n",
    "                    except:\n",
    "                        print('error in finding inverse!')\n",
    "\n",
    "            t_cal_full[k]=t_cal_full[k]+np.mean(jitter_array[-counter:])\n",
    "            # print(colored('Sample is %i'%k, 'red'))\n",
    "            if(k>0):\n",
    "                new_spacing[k%128]=new_spacing[k%128]+t_cal_full[k]-t_cal_full[k-1]\n",
    "\n",
    "\n",
    "        new_spacing[1:]=new_spacing[1:]/7.0\n",
    "        new_spacing[0]=new_spacing[0]/6.0\n",
    "        #print('spacing is', new_spacing)\n",
    "\n",
    "        for i in range(0,896):\n",
    "            if(i==0):\n",
    "                t_cal_full[i]=0.0\n",
    "            else:\n",
    "                t_cal_full[i]=t_cal_full[i-1]+new_spacing[(i)%128]\n",
    "\n",
    "\n",
    "        #print('final t_cal is',t_cal_full)\n",
    "\n",
    "        t_cal=t_cal_full[:128]\n",
    "\n"
   ]
  },
  {
   "cell_type": "code",
   "execution_count": 15,
   "metadata": {},
   "outputs": [
    {
     "data": {
      "text/plain": [
       "[<matplotlib.lines.Line2D at 0x2b3f4d36a5c0>]"
      ]
     },
     "execution_count": 15,
     "metadata": {},
     "output_type": "execute_result"
    },
    {
     "data": {
      "image/png": "[encoded data removed]",
      "text/plain": [
       "<Figure size 432x288 with 1 Axes>"
      ]
     },
     "metadata": {},
     "output_type": "display_data"
    }
   ],
   "source": [
    "plt.plot(all_times[0])\n",
    "plt.plot(t_cal_full+all_times[0][0],\"--\")\n",
    "# plt.plot(time_cal+all_times[0][0])"
   ]
  },
  {
   "cell_type": "code",
   "execution_count": 13,
   "metadata": {},
   "outputs": [],
   "source": [
    "time_new = np.load(\"./SavedCalibData/time_2840_10110.npy\")\n",
    "time_old = np.load(\"./SavedCalibData/time_2840_10100.npy\")"
   ]
  },
  {
   "cell_type": "code",
   "execution_count": 26,
   "metadata": {},
   "outputs": [
    {
     "data": {
      "text/plain": [
       "[<matplotlib.lines.Line2D at 0x2b3f4b3f1d68>]"
      ]
     },
     "execution_count": 26,
     "metadata": {},
     "output_type": "execute_result"
    },
    {
     "data": {
      "image/png": "[encoded data removed]",
      "text/plain": [
       "<Figure size 432x288 with 1 Axes>"
      ]
     },
     "metadata": {},
     "output_type": "display_data"
    }
   ],
   "source": [
    "plt.plot(time_new[0]+time_old[0][0])\n",
    "plt.plot(time_old[0])"
   ]
  },
  {
   "cell_type": "code",
   "execution_count": null,
   "metadata": {},
   "outputs": [],
   "source": []
  }
 ],
 "metadata": {
  "kernelspec": {
   "display_name": "Python 3.6 (Conda 5.2) [python/3.6-conda5.2]",
   "language": "python",
   "name": "sys_python36conda"
  },
  "language_info": {
   "codemirror_mode": {
    "name": "ipython",
    "version": 3
   },
   "file_extension": ".py",
   "mimetype": "text/x-python",
   "name": "python",
   "nbconvert_exporter": "python",
   "pygments_lexer": "ipython3",
   "version": "3.6.6"
  }
 },
 "nbformat": 4,
 "nbformat_minor": 2
}
